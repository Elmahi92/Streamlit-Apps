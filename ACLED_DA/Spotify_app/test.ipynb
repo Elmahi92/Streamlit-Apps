{
 "cells": [
  {
   "cell_type": "code",
   "execution_count": 1,
   "metadata": {},
   "outputs": [
    {
     "ename": "ModuleNotFoundError",
     "evalue": "No module named 'seaborn'",
     "output_type": "error",
     "traceback": [
      "\u001b[1;31m---------------------------------------------------------------------------\u001b[0m",
      "\u001b[1;31mModuleNotFoundError\u001b[0m                       Traceback (most recent call last)",
      "Cell \u001b[1;32mIn[1], line 4\u001b[0m\n\u001b[0;32m      2\u001b[0m \u001b[38;5;28;01mimport\u001b[39;00m \u001b[38;5;21;01mpandas\u001b[39;00m \u001b[38;5;28;01mas\u001b[39;00m \u001b[38;5;21;01mpd\u001b[39;00m\n\u001b[0;32m      3\u001b[0m \u001b[38;5;28;01mimport\u001b[39;00m \u001b[38;5;21;01mplotly\u001b[39;00m\u001b[38;5;21;01m.\u001b[39;00m\u001b[38;5;21;01mexpress\u001b[39;00m \u001b[38;5;28;01mas\u001b[39;00m \u001b[38;5;21;01mpx\u001b[39;00m\n\u001b[1;32m----> 4\u001b[0m \u001b[38;5;28;01mimport\u001b[39;00m \u001b[38;5;21;01mseaborn\u001b[39;00m \u001b[38;5;28;01mas\u001b[39;00m \u001b[38;5;21;01msns\u001b[39;00m\n\u001b[0;32m      5\u001b[0m \u001b[38;5;28;01mimport\u001b[39;00m \u001b[38;5;21;01msys\u001b[39;00m\n\u001b[0;32m      6\u001b[0m \u001b[38;5;28;01mfrom\u001b[39;00m \u001b[38;5;21;01mspotipy\u001b[39;00m\u001b[38;5;21;01m.\u001b[39;00m\u001b[38;5;21;01moauth2\u001b[39;00m \u001b[38;5;28;01mimport\u001b[39;00m SpotifyClientCredentials\n",
      "\u001b[1;31mModuleNotFoundError\u001b[0m: No module named 'seaborn'"
     ]
    }
   ],
   "source": [
    "import spotipy\n",
    "import pandas as pd\n",
    "import plotly.express as px\n",
    "import seaborn as sns\n",
    "import sys\n",
    "from spotipy.oauth2 import SpotifyClientCredentials"
   ]
  },
  {
   "cell_type": "code",
   "execution_count": 9,
   "metadata": {},
   "outputs": [],
   "source": [
    "#Authentication - without user\n",
    "client_credentials_manager = SpotifyClientCredentials(client_id='c7832f4cfebb4553b27447fe32b29c1d', client_secret='d61c1c95e44446bdab707511f8d306ae')\n",
    "sp = spotipy.Spotify(client_credentials_manager = client_credentials_manager)"
   ]
  },
  {
   "cell_type": "code",
   "execution_count": 15,
   "metadata": {},
   "outputs": [],
   "source": [
    "playlist_link = \"https://open.spotify.com/playlist/2QECvpSDU035PFS5uJ8x3l?si=5730077d7aca4db3\"\n",
    "playlist_URI = playlist_link.split(\"/\")[-1].split(\"?\")[0]\n",
    "track_uris = [x[\"track\"][\"uri\"] for x in sp.playlist_tracks(playlist_URI)[\"items\"]]"
   ]
  },
  {
   "cell_type": "code",
   "execution_count": 14,
   "metadata": {},
   "outputs": [
    {
     "ename": "NameError",
     "evalue": "name 'id_type' is not defined",
     "output_type": "error",
     "traceback": [
      "\u001b[1;31m---------------------------------------------------------------------------\u001b[0m",
      "\u001b[1;31mNameError\u001b[0m                                 Traceback (most recent call last)",
      "Cell \u001b[1;32mIn[14], line 18\u001b[0m\n\u001b[0;32m     16\u001b[0m link \u001b[38;5;241m=\u001b[39m \u001b[38;5;124m'\u001b[39m\u001b[38;5;124mhttps://open.spotify.com/album/6e6dAsKFgLKnBFfPuIV6nm\u001b[39m\u001b[38;5;124m'\u001b[39m\n\u001b[0;32m     17\u001b[0m id_value \u001b[38;5;241m=\u001b[39m extract_id(link)\n\u001b[1;32m---> 18\u001b[0m \u001b[38;5;28mprint\u001b[39m(\u001b[38;5;124mf\u001b[39m\u001b[38;5;124m\"\u001b[39m\u001b[38;5;124mType: \u001b[39m\u001b[38;5;132;01m{\u001b[39;00mid_type\u001b[38;5;132;01m}\u001b[39;00m\u001b[38;5;124m, ID: \u001b[39m\u001b[38;5;132;01m{\u001b[39;00mid_value\u001b[38;5;132;01m}\u001b[39;00m\u001b[38;5;124m\"\u001b[39m)  \u001b[38;5;66;03m# Output: Type: album, ID: your_album_id\u001b[39;00m\n",
      "\u001b[1;31mNameError\u001b[0m: name 'id_type' is not defined"
     ]
    }
   ],
   "source": [
    "def extract_id(link):\n",
    "    # Check if the link is for a playlist or an album\n",
    "    if 'playlist' in link:\n",
    "        id_type = 'playlist'\n",
    "    elif 'album' in link:\n",
    "        id_type = 'album'\n",
    "    else:\n",
    "        raise ValueError(\"Link must be for a playlist or an album\")\n",
    "\n",
    "    # Extract the ID from the link\n",
    "    id_value = link.split('/')[-1].split('?')[0]\n",
    "    return id_value\n",
    "\n",
    "\n",
    "\n",
    "link = 'https://open.spotify.com/album/6e6dAsKFgLKnBFfPuIV6nm'\n",
    "id_value = extract_id(link)\n",
    "print(f\"Type: {id_type}, ID: {id_value}\")  # Output: Type: album, ID: your_album_id"
   ]
  },
  {
   "cell_type": "code",
   "execution_count": 19,
   "metadata": {},
   "outputs": [],
   "source": [
    "# Function to extract MetaData from a playlist thats longer than 100 songs\n",
    "def get_playlist_tracks_more_than_100_songs(username, playlist_link):\n",
    "    playlist_id=extract_playlist_id(playlist_link)\n",
    "    results = sp.user_playlist_tracks(username,playlist_id)\n",
    "    tracks = results['items']\n",
    "    while results['next']:\n",
    "        results = sp.next(results)\n",
    "        tracks.extend(results['items'])\n",
    "    results = tracks\n",
    "\n",
    "    playlist_tracks_id = []\n",
    "    playlist_tracks_titles = []\n",
    "    playlist_tracks_artists = []\n",
    "    playlist_tracks_first_artists = []\n",
    "    playlist_tracks_first_release_date = []\n",
    "    playlist_tracks_popularity = []\n",
    "\n",
    "    for i in range(len(results)):\n",
    "        print(i)\n",
    "        if i == 0:\n",
    "            playlist_tracks_id = results[i]['track']['id']\n",
    "            playlist_tracks_titles = results[i]['track']['name']\n",
    "            playlist_tracks_first_release_date = results[i]['track']['album']['release_date']\n",
    "            playlist_tracks_popularity = results[i]['track']['popularity']\n",
    "\n",
    "            artist_list = []\n",
    "            for artist in results[i]['track']['artists']:\n",
    "                artist_list= artist['name']\n",
    "            playlist_tracks_artists = artist_list\n",
    "\n",
    "            features = sp.audio_features(playlist_tracks_id)\n",
    "            features_df = pd.DataFrame(data=features, columns=features[0].keys())\n",
    "            features_df['title'] = playlist_tracks_titles\n",
    "            features_df['all_artists'] = playlist_tracks_artists\n",
    "            features_df['popularity'] = playlist_tracks_popularity\n",
    "            features_df['release_date'] = playlist_tracks_first_release_date\n",
    "            features_df = features_df[['id', 'title', 'all_artists', 'popularity', 'release_date',\n",
    "                                       'danceability', 'energy', 'key', 'loudness',\n",
    "                                       'mode', 'acousticness', 'instrumentalness',\n",
    "                                       'liveness', 'valence', 'tempo',\n",
    "                                       'duration_ms', 'time_signature']]\n",
    "            continue\n",
    "        else:\n",
    "            try:\n",
    "                playlist_tracks_id = results[i]['track']['id']\n",
    "                playlist_tracks_titles = results[i]['track']['name']\n",
    "                playlist_tracks_first_release_date = results[i]['track']['album']['release_date']\n",
    "                playlist_tracks_popularity = results[i]['track']['popularity']\n",
    "                artist_list = []\n",
    "                for artist in results[i]['track']['artists']:\n",
    "                    artist_list= artist['name']\n",
    "                playlist_tracks_artists = artist_list\n",
    "                features = sp.audio_features(playlist_tracks_id)\n",
    "                new_row = {'id':[playlist_tracks_id],\n",
    "                           'title':[playlist_tracks_titles],\n",
    "                           'all_artists':[playlist_tracks_artists],\n",
    "                           'popularity':[playlist_tracks_popularity],\n",
    "                           'release_date':[playlist_tracks_first_release_date],\n",
    "                           'danceability':[features[0]['danceability']],\n",
    "                           'energy':[features[0]['energy']],\n",
    "                           'key':[features[0]['key']],\n",
    "                           'loudness':[features[0]['loudness']],\n",
    "                           'mode':[features[0]['mode']],\n",
    "                           'acousticness':[features[0]['acousticness']],\n",
    "                           'instrumentalness':[features[0]['instrumentalness']],\n",
    "                           'liveness':[features[0]['liveness']],\n",
    "                           'valence':[features[0]['valence']],\n",
    "                           'tempo':[features[0]['tempo']],\n",
    "                           'duration_ms':[features[0]['duration_ms']],\n",
    "                           'time_signature':[features[0]['time_signature']]\n",
    "                           }\n",
    "\n",
    "                dfs = [features_df, pd.DataFrame(new_row)]\n",
    "                features_df = pd.concat(dfs, ignore_index = True)\n",
    "            except:\n",
    "                continue\n",
    "\n",
    "    return features_df"
   ]
  },
  {
   "cell_type": "code",
   "execution_count": 20,
   "metadata": {},
   "outputs": [
    {
     "name": "stdout",
     "output_type": "stream",
     "text": [
      "0\n"
     ]
    },
    {
     "name": "stderr",
     "output_type": "stream",
     "text": [
      "Max Retries reached\n"
     ]
    },
    {
     "ename": "SpotifyException",
     "evalue": "http status: 429, code:-1 - /v1/audio-features/?ids=2U42jVkNgEU6DoM64eFD7i:\n Max Retries, reason: too many 429 error responses",
     "output_type": "error",
     "traceback": [
      "\u001b[1;31m---------------------------------------------------------------------------\u001b[0m",
      "\u001b[1;31mResponseError\u001b[0m                             Traceback (most recent call last)",
      "\u001b[1;31mResponseError\u001b[0m: too many 429 error responses",
      "\nThe above exception was the direct cause of the following exception:\n",
      "\u001b[1;31mMaxRetryError\u001b[0m                             Traceback (most recent call last)",
      "File \u001b[1;32mc:\\Users\\MOALI72\\OneDrive - IKEA\\Projects\\personal-data-science\\Spotify_app\\env\\lib\\site-packages\\requests\\adapters.py:667\u001b[0m, in \u001b[0;36mHTTPAdapter.send\u001b[1;34m(self, request, stream, timeout, verify, cert, proxies)\u001b[0m\n\u001b[0;32m    666\u001b[0m \u001b[38;5;28;01mtry\u001b[39;00m:\n\u001b[1;32m--> 667\u001b[0m     resp \u001b[38;5;241m=\u001b[39m \u001b[43mconn\u001b[49m\u001b[38;5;241;43m.\u001b[39;49m\u001b[43murlopen\u001b[49m\u001b[43m(\u001b[49m\n\u001b[0;32m    668\u001b[0m \u001b[43m        \u001b[49m\u001b[43mmethod\u001b[49m\u001b[38;5;241;43m=\u001b[39;49m\u001b[43mrequest\u001b[49m\u001b[38;5;241;43m.\u001b[39;49m\u001b[43mmethod\u001b[49m\u001b[43m,\u001b[49m\n\u001b[0;32m    669\u001b[0m \u001b[43m        \u001b[49m\u001b[43murl\u001b[49m\u001b[38;5;241;43m=\u001b[39;49m\u001b[43murl\u001b[49m\u001b[43m,\u001b[49m\n\u001b[0;32m    670\u001b[0m \u001b[43m        \u001b[49m\u001b[43mbody\u001b[49m\u001b[38;5;241;43m=\u001b[39;49m\u001b[43mrequest\u001b[49m\u001b[38;5;241;43m.\u001b[39;49m\u001b[43mbody\u001b[49m\u001b[43m,\u001b[49m\n\u001b[0;32m    671\u001b[0m \u001b[43m        \u001b[49m\u001b[43mheaders\u001b[49m\u001b[38;5;241;43m=\u001b[39;49m\u001b[43mrequest\u001b[49m\u001b[38;5;241;43m.\u001b[39;49m\u001b[43mheaders\u001b[49m\u001b[43m,\u001b[49m\n\u001b[0;32m    672\u001b[0m \u001b[43m        \u001b[49m\u001b[43mredirect\u001b[49m\u001b[38;5;241;43m=\u001b[39;49m\u001b[38;5;28;43;01mFalse\u001b[39;49;00m\u001b[43m,\u001b[49m\n\u001b[0;32m    673\u001b[0m \u001b[43m        \u001b[49m\u001b[43massert_same_host\u001b[49m\u001b[38;5;241;43m=\u001b[39;49m\u001b[38;5;28;43;01mFalse\u001b[39;49;00m\u001b[43m,\u001b[49m\n\u001b[0;32m    674\u001b[0m \u001b[43m        \u001b[49m\u001b[43mpreload_content\u001b[49m\u001b[38;5;241;43m=\u001b[39;49m\u001b[38;5;28;43;01mFalse\u001b[39;49;00m\u001b[43m,\u001b[49m\n\u001b[0;32m    675\u001b[0m \u001b[43m        \u001b[49m\u001b[43mdecode_content\u001b[49m\u001b[38;5;241;43m=\u001b[39;49m\u001b[38;5;28;43;01mFalse\u001b[39;49;00m\u001b[43m,\u001b[49m\n\u001b[0;32m    676\u001b[0m \u001b[43m        \u001b[49m\u001b[43mretries\u001b[49m\u001b[38;5;241;43m=\u001b[39;49m\u001b[38;5;28;43mself\u001b[39;49m\u001b[38;5;241;43m.\u001b[39;49m\u001b[43mmax_retries\u001b[49m\u001b[43m,\u001b[49m\n\u001b[0;32m    677\u001b[0m \u001b[43m        \u001b[49m\u001b[43mtimeout\u001b[49m\u001b[38;5;241;43m=\u001b[39;49m\u001b[43mtimeout\u001b[49m\u001b[43m,\u001b[49m\n\u001b[0;32m    678\u001b[0m \u001b[43m        \u001b[49m\u001b[43mchunked\u001b[49m\u001b[38;5;241;43m=\u001b[39;49m\u001b[43mchunked\u001b[49m\u001b[43m,\u001b[49m\n\u001b[0;32m    679\u001b[0m \u001b[43m    \u001b[49m\u001b[43m)\u001b[49m\n\u001b[0;32m    681\u001b[0m \u001b[38;5;28;01mexcept\u001b[39;00m (ProtocolError, \u001b[38;5;167;01mOSError\u001b[39;00m) \u001b[38;5;28;01mas\u001b[39;00m err:\n",
      "File \u001b[1;32mc:\\Users\\MOALI72\\OneDrive - IKEA\\Projects\\personal-data-science\\Spotify_app\\env\\lib\\site-packages\\urllib3\\connectionpool.py:944\u001b[0m, in \u001b[0;36mHTTPConnectionPool.urlopen\u001b[1;34m(self, method, url, body, headers, retries, redirect, assert_same_host, timeout, pool_timeout, release_conn, chunked, body_pos, preload_content, decode_content, **response_kw)\u001b[0m\n\u001b[0;32m    943\u001b[0m     log\u001b[38;5;241m.\u001b[39mdebug(\u001b[38;5;124m\"\u001b[39m\u001b[38;5;124mRetry: \u001b[39m\u001b[38;5;132;01m%s\u001b[39;00m\u001b[38;5;124m\"\u001b[39m, url)\n\u001b[1;32m--> 944\u001b[0m     \u001b[38;5;28;01mreturn\u001b[39;00m \u001b[38;5;28mself\u001b[39m\u001b[38;5;241m.\u001b[39murlopen(\n\u001b[0;32m    945\u001b[0m         method,\n\u001b[0;32m    946\u001b[0m         url,\n\u001b[0;32m    947\u001b[0m         body,\n\u001b[0;32m    948\u001b[0m         headers,\n\u001b[0;32m    949\u001b[0m         retries\u001b[38;5;241m=\u001b[39mretries,\n\u001b[0;32m    950\u001b[0m         redirect\u001b[38;5;241m=\u001b[39mredirect,\n\u001b[0;32m    951\u001b[0m         assert_same_host\u001b[38;5;241m=\u001b[39massert_same_host,\n\u001b[0;32m    952\u001b[0m         timeout\u001b[38;5;241m=\u001b[39mtimeout,\n\u001b[0;32m    953\u001b[0m         pool_timeout\u001b[38;5;241m=\u001b[39mpool_timeout,\n\u001b[0;32m    954\u001b[0m         release_conn\u001b[38;5;241m=\u001b[39mrelease_conn,\n\u001b[0;32m    955\u001b[0m         chunked\u001b[38;5;241m=\u001b[39mchunked,\n\u001b[0;32m    956\u001b[0m         body_pos\u001b[38;5;241m=\u001b[39mbody_pos,\n\u001b[0;32m    957\u001b[0m         preload_content\u001b[38;5;241m=\u001b[39mpreload_content,\n\u001b[0;32m    958\u001b[0m         decode_content\u001b[38;5;241m=\u001b[39mdecode_content,\n\u001b[0;32m    959\u001b[0m         \u001b[38;5;241m*\u001b[39m\u001b[38;5;241m*\u001b[39mresponse_kw,\n\u001b[0;32m    960\u001b[0m     )\n\u001b[0;32m    962\u001b[0m \u001b[38;5;28;01mreturn\u001b[39;00m response\n",
      "File \u001b[1;32mc:\\Users\\MOALI72\\OneDrive - IKEA\\Projects\\personal-data-science\\Spotify_app\\env\\lib\\site-packages\\urllib3\\connectionpool.py:944\u001b[0m, in \u001b[0;36mHTTPConnectionPool.urlopen\u001b[1;34m(self, method, url, body, headers, retries, redirect, assert_same_host, timeout, pool_timeout, release_conn, chunked, body_pos, preload_content, decode_content, **response_kw)\u001b[0m\n\u001b[0;32m    943\u001b[0m     log\u001b[38;5;241m.\u001b[39mdebug(\u001b[38;5;124m\"\u001b[39m\u001b[38;5;124mRetry: \u001b[39m\u001b[38;5;132;01m%s\u001b[39;00m\u001b[38;5;124m\"\u001b[39m, url)\n\u001b[1;32m--> 944\u001b[0m     \u001b[38;5;28;01mreturn\u001b[39;00m \u001b[38;5;28mself\u001b[39m\u001b[38;5;241m.\u001b[39murlopen(\n\u001b[0;32m    945\u001b[0m         method,\n\u001b[0;32m    946\u001b[0m         url,\n\u001b[0;32m    947\u001b[0m         body,\n\u001b[0;32m    948\u001b[0m         headers,\n\u001b[0;32m    949\u001b[0m         retries\u001b[38;5;241m=\u001b[39mretries,\n\u001b[0;32m    950\u001b[0m         redirect\u001b[38;5;241m=\u001b[39mredirect,\n\u001b[0;32m    951\u001b[0m         assert_same_host\u001b[38;5;241m=\u001b[39massert_same_host,\n\u001b[0;32m    952\u001b[0m         timeout\u001b[38;5;241m=\u001b[39mtimeout,\n\u001b[0;32m    953\u001b[0m         pool_timeout\u001b[38;5;241m=\u001b[39mpool_timeout,\n\u001b[0;32m    954\u001b[0m         release_conn\u001b[38;5;241m=\u001b[39mrelease_conn,\n\u001b[0;32m    955\u001b[0m         chunked\u001b[38;5;241m=\u001b[39mchunked,\n\u001b[0;32m    956\u001b[0m         body_pos\u001b[38;5;241m=\u001b[39mbody_pos,\n\u001b[0;32m    957\u001b[0m         preload_content\u001b[38;5;241m=\u001b[39mpreload_content,\n\u001b[0;32m    958\u001b[0m         decode_content\u001b[38;5;241m=\u001b[39mdecode_content,\n\u001b[0;32m    959\u001b[0m         \u001b[38;5;241m*\u001b[39m\u001b[38;5;241m*\u001b[39mresponse_kw,\n\u001b[0;32m    960\u001b[0m     )\n\u001b[0;32m    962\u001b[0m \u001b[38;5;28;01mreturn\u001b[39;00m response\n",
      "File \u001b[1;32mc:\\Users\\MOALI72\\OneDrive - IKEA\\Projects\\personal-data-science\\Spotify_app\\env\\lib\\site-packages\\urllib3\\connectionpool.py:944\u001b[0m, in \u001b[0;36mHTTPConnectionPool.urlopen\u001b[1;34m(self, method, url, body, headers, retries, redirect, assert_same_host, timeout, pool_timeout, release_conn, chunked, body_pos, preload_content, decode_content, **response_kw)\u001b[0m\n\u001b[0;32m    943\u001b[0m     log\u001b[38;5;241m.\u001b[39mdebug(\u001b[38;5;124m\"\u001b[39m\u001b[38;5;124mRetry: \u001b[39m\u001b[38;5;132;01m%s\u001b[39;00m\u001b[38;5;124m\"\u001b[39m, url)\n\u001b[1;32m--> 944\u001b[0m     \u001b[38;5;28;01mreturn\u001b[39;00m \u001b[38;5;28mself\u001b[39m\u001b[38;5;241m.\u001b[39murlopen(\n\u001b[0;32m    945\u001b[0m         method,\n\u001b[0;32m    946\u001b[0m         url,\n\u001b[0;32m    947\u001b[0m         body,\n\u001b[0;32m    948\u001b[0m         headers,\n\u001b[0;32m    949\u001b[0m         retries\u001b[38;5;241m=\u001b[39mretries,\n\u001b[0;32m    950\u001b[0m         redirect\u001b[38;5;241m=\u001b[39mredirect,\n\u001b[0;32m    951\u001b[0m         assert_same_host\u001b[38;5;241m=\u001b[39massert_same_host,\n\u001b[0;32m    952\u001b[0m         timeout\u001b[38;5;241m=\u001b[39mtimeout,\n\u001b[0;32m    953\u001b[0m         pool_timeout\u001b[38;5;241m=\u001b[39mpool_timeout,\n\u001b[0;32m    954\u001b[0m         release_conn\u001b[38;5;241m=\u001b[39mrelease_conn,\n\u001b[0;32m    955\u001b[0m         chunked\u001b[38;5;241m=\u001b[39mchunked,\n\u001b[0;32m    956\u001b[0m         body_pos\u001b[38;5;241m=\u001b[39mbody_pos,\n\u001b[0;32m    957\u001b[0m         preload_content\u001b[38;5;241m=\u001b[39mpreload_content,\n\u001b[0;32m    958\u001b[0m         decode_content\u001b[38;5;241m=\u001b[39mdecode_content,\n\u001b[0;32m    959\u001b[0m         \u001b[38;5;241m*\u001b[39m\u001b[38;5;241m*\u001b[39mresponse_kw,\n\u001b[0;32m    960\u001b[0m     )\n\u001b[0;32m    962\u001b[0m \u001b[38;5;28;01mreturn\u001b[39;00m response\n",
      "File \u001b[1;32mc:\\Users\\MOALI72\\OneDrive - IKEA\\Projects\\personal-data-science\\Spotify_app\\env\\lib\\site-packages\\urllib3\\connectionpool.py:934\u001b[0m, in \u001b[0;36mHTTPConnectionPool.urlopen\u001b[1;34m(self, method, url, body, headers, retries, redirect, assert_same_host, timeout, pool_timeout, release_conn, chunked, body_pos, preload_content, decode_content, **response_kw)\u001b[0m\n\u001b[0;32m    933\u001b[0m \u001b[38;5;28;01mtry\u001b[39;00m:\n\u001b[1;32m--> 934\u001b[0m     retries \u001b[38;5;241m=\u001b[39m \u001b[43mretries\u001b[49m\u001b[38;5;241;43m.\u001b[39;49m\u001b[43mincrement\u001b[49m\u001b[43m(\u001b[49m\u001b[43mmethod\u001b[49m\u001b[43m,\u001b[49m\u001b[43m \u001b[49m\u001b[43murl\u001b[49m\u001b[43m,\u001b[49m\u001b[43m \u001b[49m\u001b[43mresponse\u001b[49m\u001b[38;5;241;43m=\u001b[39;49m\u001b[43mresponse\u001b[49m\u001b[43m,\u001b[49m\u001b[43m \u001b[49m\u001b[43m_pool\u001b[49m\u001b[38;5;241;43m=\u001b[39;49m\u001b[38;5;28;43mself\u001b[39;49m\u001b[43m)\u001b[49m\n\u001b[0;32m    935\u001b[0m \u001b[38;5;28;01mexcept\u001b[39;00m MaxRetryError:\n",
      "File \u001b[1;32mc:\\Users\\MOALI72\\OneDrive - IKEA\\Projects\\personal-data-science\\Spotify_app\\env\\lib\\site-packages\\urllib3\\util\\retry.py:519\u001b[0m, in \u001b[0;36mRetry.increment\u001b[1;34m(self, method, url, response, error, _pool, _stacktrace)\u001b[0m\n\u001b[0;32m    518\u001b[0m     reason \u001b[38;5;241m=\u001b[39m error \u001b[38;5;129;01mor\u001b[39;00m ResponseError(cause)\n\u001b[1;32m--> 519\u001b[0m     \u001b[38;5;28;01mraise\u001b[39;00m MaxRetryError(_pool, url, reason) \u001b[38;5;28;01mfrom\u001b[39;00m \u001b[38;5;21;01mreason\u001b[39;00m  \u001b[38;5;66;03m# type: ignore[arg-type]\u001b[39;00m\n\u001b[0;32m    521\u001b[0m log\u001b[38;5;241m.\u001b[39mdebug(\u001b[38;5;124m\"\u001b[39m\u001b[38;5;124mIncremented Retry for (url=\u001b[39m\u001b[38;5;124m'\u001b[39m\u001b[38;5;132;01m%s\u001b[39;00m\u001b[38;5;124m'\u001b[39m\u001b[38;5;124m): \u001b[39m\u001b[38;5;132;01m%r\u001b[39;00m\u001b[38;5;124m\"\u001b[39m, url, new_retry)\n",
      "\u001b[1;31mMaxRetryError\u001b[0m: HTTPSConnectionPool(host='api.spotify.com', port=443): Max retries exceeded with url: /v1/audio-features/?ids=2U42jVkNgEU6DoM64eFD7i (Caused by ResponseError('too many 429 error responses'))",
      "\nDuring handling of the above exception, another exception occurred:\n",
      "\u001b[1;31mRetryError\u001b[0m                                Traceback (most recent call last)",
      "File \u001b[1;32mc:\\Users\\MOALI72\\OneDrive - IKEA\\Projects\\personal-data-science\\Spotify_app\\env\\lib\\site-packages\\spotipy\\client.py:270\u001b[0m, in \u001b[0;36mSpotify._internal_call\u001b[1;34m(self, method, url, payload, params)\u001b[0m\n\u001b[0;32m    269\u001b[0m \u001b[38;5;28;01mtry\u001b[39;00m:\n\u001b[1;32m--> 270\u001b[0m     response \u001b[38;5;241m=\u001b[39m \u001b[38;5;28mself\u001b[39m\u001b[38;5;241m.\u001b[39m_session\u001b[38;5;241m.\u001b[39mrequest(\n\u001b[0;32m    271\u001b[0m         method, url, headers\u001b[38;5;241m=\u001b[39mheaders, proxies\u001b[38;5;241m=\u001b[39m\u001b[38;5;28mself\u001b[39m\u001b[38;5;241m.\u001b[39mproxies,\n\u001b[0;32m    272\u001b[0m         timeout\u001b[38;5;241m=\u001b[39m\u001b[38;5;28mself\u001b[39m\u001b[38;5;241m.\u001b[39mrequests_timeout, \u001b[38;5;241m*\u001b[39m\u001b[38;5;241m*\u001b[39margs\n\u001b[0;32m    273\u001b[0m     )\n\u001b[0;32m    275\u001b[0m     response\u001b[38;5;241m.\u001b[39mraise_for_status()\n",
      "File \u001b[1;32mc:\\Users\\MOALI72\\OneDrive - IKEA\\Projects\\personal-data-science\\Spotify_app\\env\\lib\\site-packages\\requests\\sessions.py:589\u001b[0m, in \u001b[0;36mSession.request\u001b[1;34m(self, method, url, params, data, headers, cookies, files, auth, timeout, allow_redirects, proxies, hooks, stream, verify, cert, json)\u001b[0m\n\u001b[0;32m    588\u001b[0m send_kwargs\u001b[38;5;241m.\u001b[39mupdate(settings)\n\u001b[1;32m--> 589\u001b[0m resp \u001b[38;5;241m=\u001b[39m \u001b[38;5;28mself\u001b[39m\u001b[38;5;241m.\u001b[39msend(prep, \u001b[38;5;241m*\u001b[39m\u001b[38;5;241m*\u001b[39msend_kwargs)\n\u001b[0;32m    591\u001b[0m \u001b[38;5;28;01mreturn\u001b[39;00m resp\n",
      "File \u001b[1;32mc:\\Users\\MOALI72\\OneDrive - IKEA\\Projects\\personal-data-science\\Spotify_app\\env\\lib\\site-packages\\requests\\sessions.py:703\u001b[0m, in \u001b[0;36mSession.send\u001b[1;34m(self, request, **kwargs)\u001b[0m\n\u001b[0;32m    702\u001b[0m \u001b[38;5;66;03m# Send the request\u001b[39;00m\n\u001b[1;32m--> 703\u001b[0m r \u001b[38;5;241m=\u001b[39m adapter\u001b[38;5;241m.\u001b[39msend(request, \u001b[38;5;241m*\u001b[39m\u001b[38;5;241m*\u001b[39mkwargs)\n\u001b[0;32m    705\u001b[0m \u001b[38;5;66;03m# Total elapsed time of the request (approximately)\u001b[39;00m\n",
      "File \u001b[1;32mc:\\Users\\MOALI72\\OneDrive - IKEA\\Projects\\personal-data-science\\Spotify_app\\env\\lib\\site-packages\\requests\\adapters.py:691\u001b[0m, in \u001b[0;36mHTTPAdapter.send\u001b[1;34m(self, request, stream, timeout, verify, cert, proxies)\u001b[0m\n\u001b[0;32m    690\u001b[0m \u001b[38;5;28;01mif\u001b[39;00m \u001b[38;5;28misinstance\u001b[39m(e\u001b[38;5;241m.\u001b[39mreason, ResponseError):\n\u001b[1;32m--> 691\u001b[0m     \u001b[38;5;28;01mraise\u001b[39;00m RetryError(e, request\u001b[38;5;241m=\u001b[39mrequest)\n\u001b[0;32m    693\u001b[0m \u001b[38;5;28;01mif\u001b[39;00m \u001b[38;5;28misinstance\u001b[39m(e\u001b[38;5;241m.\u001b[39mreason, _ProxyError):\n",
      "\u001b[1;31mRetryError\u001b[0m: HTTPSConnectionPool(host='api.spotify.com', port=443): Max retries exceeded with url: /v1/audio-features/?ids=2U42jVkNgEU6DoM64eFD7i (Caused by ResponseError('too many 429 error responses'))",
      "\nDuring handling of the above exception, another exception occurred:\n",
      "\u001b[1;31mSpotifyException\u001b[0m                          Traceback (most recent call last)",
      "Cell \u001b[1;32mIn[20], line 1\u001b[0m\n\u001b[1;32m----> 1\u001b[0m \u001b[43mget_playlist_tracks_more_than_100_songs\u001b[49m\u001b[43m(\u001b[49m\u001b[38;5;124;43m'\u001b[39;49m\u001b[38;5;124;43mc7832f4cfebb4553b27447fe32b29c1d\u001b[39;49m\u001b[38;5;124;43m'\u001b[39;49m\u001b[43m,\u001b[49m\u001b[38;5;124;43m'\u001b[39;49m\u001b[38;5;124;43mhttps://open.spotify.com/playlist/7naBSSf7F4f7mOiQkDt0u9?uid=0bf2e7934b19c72f&uri=spotify:track:1oqYVpmmliXObp0cCdZwFx\u001b[39;49m\u001b[38;5;124;43m'\u001b[39;49m\u001b[43m)\u001b[49m\n",
      "Cell \u001b[1;32mIn[19], line 31\u001b[0m, in \u001b[0;36mget_playlist_tracks_more_than_100_songs\u001b[1;34m(username, playlist_link)\u001b[0m\n\u001b[0;32m     28\u001b[0m     artist_list\u001b[38;5;241m=\u001b[39m artist[\u001b[38;5;124m'\u001b[39m\u001b[38;5;124mname\u001b[39m\u001b[38;5;124m'\u001b[39m]\n\u001b[0;32m     29\u001b[0m playlist_tracks_artists \u001b[38;5;241m=\u001b[39m artist_list\n\u001b[1;32m---> 31\u001b[0m features \u001b[38;5;241m=\u001b[39m \u001b[43msp\u001b[49m\u001b[38;5;241;43m.\u001b[39;49m\u001b[43maudio_features\u001b[49m\u001b[43m(\u001b[49m\u001b[43mplaylist_tracks_id\u001b[49m\u001b[43m)\u001b[49m\n\u001b[0;32m     32\u001b[0m features_df \u001b[38;5;241m=\u001b[39m pd\u001b[38;5;241m.\u001b[39mDataFrame(data\u001b[38;5;241m=\u001b[39mfeatures, columns\u001b[38;5;241m=\u001b[39mfeatures[\u001b[38;5;241m0\u001b[39m]\u001b[38;5;241m.\u001b[39mkeys())\n\u001b[0;32m     33\u001b[0m features_df[\u001b[38;5;124m'\u001b[39m\u001b[38;5;124mtitle\u001b[39m\u001b[38;5;124m'\u001b[39m] \u001b[38;5;241m=\u001b[39m playlist_tracks_titles\n",
      "File \u001b[1;32mc:\\Users\\MOALI72\\OneDrive - IKEA\\Projects\\personal-data-science\\Spotify_app\\env\\lib\\site-packages\\spotipy\\client.py:1750\u001b[0m, in \u001b[0;36mSpotify.audio_features\u001b[1;34m(self, tracks)\u001b[0m\n\u001b[0;32m   1748\u001b[0m \u001b[38;5;28;01mif\u001b[39;00m \u001b[38;5;28misinstance\u001b[39m(tracks, \u001b[38;5;28mstr\u001b[39m):\n\u001b[0;32m   1749\u001b[0m     trackid \u001b[38;5;241m=\u001b[39m \u001b[38;5;28mself\u001b[39m\u001b[38;5;241m.\u001b[39m_get_id(\u001b[38;5;124m\"\u001b[39m\u001b[38;5;124mtrack\u001b[39m\u001b[38;5;124m\"\u001b[39m, tracks)\n\u001b[1;32m-> 1750\u001b[0m     results \u001b[38;5;241m=\u001b[39m \u001b[38;5;28;43mself\u001b[39;49m\u001b[38;5;241;43m.\u001b[39;49m\u001b[43m_get\u001b[49m\u001b[43m(\u001b[49m\u001b[38;5;124;43m\"\u001b[39;49m\u001b[38;5;124;43maudio-features/?ids=\u001b[39;49m\u001b[38;5;124;43m\"\u001b[39;49m\u001b[43m \u001b[49m\u001b[38;5;241;43m+\u001b[39;49m\u001b[43m \u001b[49m\u001b[43mtrackid\u001b[49m\u001b[43m)\u001b[49m\n\u001b[0;32m   1751\u001b[0m \u001b[38;5;28;01melse\u001b[39;00m:\n\u001b[0;32m   1752\u001b[0m     tlist \u001b[38;5;241m=\u001b[39m [\u001b[38;5;28mself\u001b[39m\u001b[38;5;241m.\u001b[39m_get_id(\u001b[38;5;124m\"\u001b[39m\u001b[38;5;124mtrack\u001b[39m\u001b[38;5;124m\"\u001b[39m, t) \u001b[38;5;28;01mfor\u001b[39;00m t \u001b[38;5;129;01min\u001b[39;00m tracks]\n",
      "File \u001b[1;32mc:\\Users\\MOALI72\\OneDrive - IKEA\\Projects\\personal-data-science\\Spotify_app\\env\\lib\\site-packages\\spotipy\\client.py:327\u001b[0m, in \u001b[0;36mSpotify._get\u001b[1;34m(self, url, args, payload, **kwargs)\u001b[0m\n\u001b[0;32m    324\u001b[0m \u001b[38;5;28;01mif\u001b[39;00m args:\n\u001b[0;32m    325\u001b[0m     kwargs\u001b[38;5;241m.\u001b[39mupdate(args)\n\u001b[1;32m--> 327\u001b[0m \u001b[38;5;28;01mreturn\u001b[39;00m \u001b[38;5;28;43mself\u001b[39;49m\u001b[38;5;241;43m.\u001b[39;49m\u001b[43m_internal_call\u001b[49m\u001b[43m(\u001b[49m\u001b[38;5;124;43m\"\u001b[39;49m\u001b[38;5;124;43mGET\u001b[39;49m\u001b[38;5;124;43m\"\u001b[39;49m\u001b[43m,\u001b[49m\u001b[43m \u001b[49m\u001b[43murl\u001b[49m\u001b[43m,\u001b[49m\u001b[43m \u001b[49m\u001b[43mpayload\u001b[49m\u001b[43m,\u001b[49m\u001b[43m \u001b[49m\u001b[43mkwargs\u001b[49m\u001b[43m)\u001b[49m\n",
      "File \u001b[1;32mc:\\Users\\MOALI72\\OneDrive - IKEA\\Projects\\personal-data-science\\Spotify_app\\env\\lib\\site-packages\\spotipy\\client.py:311\u001b[0m, in \u001b[0;36mSpotify._internal_call\u001b[1;34m(self, method, url, payload, params)\u001b[0m\n\u001b[0;32m    309\u001b[0m     \u001b[38;5;28;01mexcept\u001b[39;00m (\u001b[38;5;167;01mIndexError\u001b[39;00m, \u001b[38;5;167;01mAttributeError\u001b[39;00m):\n\u001b[0;32m    310\u001b[0m         reason \u001b[38;5;241m=\u001b[39m \u001b[38;5;28;01mNone\u001b[39;00m\n\u001b[1;32m--> 311\u001b[0m     \u001b[38;5;28;01mraise\u001b[39;00m SpotifyException(\n\u001b[0;32m    312\u001b[0m         \u001b[38;5;241m429\u001b[39m,\n\u001b[0;32m    313\u001b[0m         \u001b[38;5;241m-\u001b[39m\u001b[38;5;241m1\u001b[39m,\n\u001b[0;32m    314\u001b[0m         \u001b[38;5;124mf\u001b[39m\u001b[38;5;124m\"\u001b[39m\u001b[38;5;132;01m{\u001b[39;00mrequest\u001b[38;5;241m.\u001b[39mpath_url\u001b[38;5;132;01m}\u001b[39;00m\u001b[38;5;124m:\u001b[39m\u001b[38;5;130;01m\\n\u001b[39;00m\u001b[38;5;124m Max Retries\u001b[39m\u001b[38;5;124m\"\u001b[39m,\n\u001b[0;32m    315\u001b[0m         reason\u001b[38;5;241m=\u001b[39mreason\n\u001b[0;32m    316\u001b[0m     )\n\u001b[0;32m    317\u001b[0m \u001b[38;5;28;01mexcept\u001b[39;00m \u001b[38;5;167;01mValueError\u001b[39;00m:\n\u001b[0;32m    318\u001b[0m     results \u001b[38;5;241m=\u001b[39m \u001b[38;5;28;01mNone\u001b[39;00m\n",
      "\u001b[1;31mSpotifyException\u001b[0m: http status: 429, code:-1 - /v1/audio-features/?ids=2U42jVkNgEU6DoM64eFD7i:\n Max Retries, reason: too many 429 error responses"
     ]
    }
   ],
   "source": [
    "get_playlist_tracks_more_than_100_songs('c7832f4cfebb4553b27447fe32b29c1d','https://open.spotify.com/playlist/7naBSSf7F4f7mOiQkDt0u9?uid=0bf2e7934b19c72f&uri=spotify:track:1oqYVpmmliXObp0cCdZwFx')"
   ]
  },
  {
   "cell_type": "code",
   "execution_count": 12,
   "metadata": {},
   "outputs": [],
   "source": [
    "import pandas as pd\n",
    "\n",
    "\n",
    "# Function to extract playlist_id from the playlist_link\n",
    "def extract_playlist_id(playlist_link):\n",
    "    playlist_id = playlist_link.split('/')[-1].split('?')[0]\n",
    "    return playlist_id\n",
    "\n",
    "\n",
    "# Function to get playlist tracks (more than 100 songs)\n",
    "def get_playlist_tracks_more_than_100_songs(username, playlist_link):\n",
    "    playlist_id = extract_playlist_id(playlist_link)\n",
    "    results = sp.user_playlist_tracks(username, playlist_id)\n",
    "    tracks = results['items']\n",
    "    while results['next']:\n",
    "        results = sp.next(results)\n",
    "        tracks.extend(results['items'])\n",
    "    \n",
    "    # Extract track IDs\n",
    "    track_ids = [item['track']['id'] for item in tracks if item['track']['id'] is not None]\n",
    "    \n",
    "    # Initialize an empty list to hold audio features\n",
    "    audio_features_list = []\n",
    "    \n",
    "    # Fetch audio features for multiple tracks in batches of 100\n",
    "    for i in range(0, len(track_ids), 100):\n",
    "        batch = track_ids[i:i + 100]\n",
    "        audio_features_results = sp.audio_features(batch)\n",
    "        audio_features_list.extend(audio_features_results)\n",
    "    \n",
    "    # Convert the list of audio features to a DataFrame\n",
    "    audio_features_df = pd.DataFrame(audio_features_list)\n",
    "    \n",
    "    # Prepare playlist data for merging\n",
    "    playlist_data = []\n",
    "    \n",
    "    for i, item in enumerate(tracks):\n",
    "        try:\n",
    "            track = item['track']\n",
    "            artist_list = ', '.join([artist['name'] for artist in track['artists']])\n",
    "            \n",
    "            track_info = {\n",
    "                'Track ID': track['id'],  # Needed for merging with audio features DataFrame\n",
    "                'Title': track['name'],\n",
    "                'Artists': artist_list,\n",
    "                'Release Date': track['album']['release_date'],\n",
    "                'Popularity': track['popularity']\n",
    "            }\n",
    "            playlist_data.append(track_info)\n",
    "        except:\n",
    "            continue\n",
    "    \n",
    "    # Convert the playlist data to a DataFrame\n",
    "    df = pd.DataFrame(playlist_data)\n",
    "    \n",
    "    # Merge the playlist data with the audio features DataFrame\n",
    "    result_df = pd.merge(df, audio_features_df, left_on='Track ID', right_on='id', how='left')\n",
    "    \n",
    "    # Drop unnecessary columns\n",
    "    result_df = result_df.drop(columns=['id'])  # Drop duplicate 'id' column\n",
    "    \n",
    "    return result_df\n"
   ]
  },
  {
   "cell_type": "code",
   "execution_count": 13,
   "metadata": {},
   "outputs": [
    {
     "name": "stderr",
     "output_type": "stream",
     "text": [
      "Max Retries reached\n"
     ]
    },
    {
     "ename": "SpotifyException",
     "evalue": "http status: 429, code:-1 - /v1/audio-features/?ids=2JdM4xPoCuHrMzOGQrMUBj,1qfDfZAvrkSAFrAR2FTQDv,0Ykyh9HbouBeaixhJE2eBw,3BKjnFugjFZblx464gIeO5,5pKvHoHL75csBTMxfv4AzK,09zPw0A8r8h4rT3j1N4m3L,0mTLUa8UFx4AwmBnGNUikI,4XfiEW53i7MZLQrVvQryxP,3XWiy9JEQ4iyqCzIqqdQu3,3IXtHVrrlDYjyTUWpKXUdq,0NPsIF7l9v2IEGrm02hpIA,1DmdXg5mmFOvlRvHYPjRU8,4CWUGKyUi4aJOq7tF6HAIF,1e0zbA86VkPt2bIi3YWJxC,4FWBg11d45wVswR21jDz4l,5KkvqWTcNr7vSJ3CFFgm5r,4N8BkYSBFdYRw7IYp6wRAb,0scrtPmtlIVwwk9s4LXJ8n,4Y13tcnF3rc1SHfNyVTjAG,0E4UBpsUOZ6Ic4SCxrXz1L,49JLml1RaJugNsjUX4VaCn,76AqgNyZJ8O7xNTK47v6RI,1BYZkBHCXjE2NwBtekxkrU,7C32Nd3qL1pqeH0nfSt44y,6njEzQA2BQOfTZEVs3LGvU,14rTFBs1cCkOBp5JPUrJhw,3M9GwnAh39jVKrcDx8iGNf,28rEMH4xXl10A2u5zpDxJm,70Q7POsMBrHeMTTWzMt3Rh,0sUn8CmbO5RcfVL83iE2As,4WJqzLYQdk7nU7YlwvSgi4,45YZp4JRXN3A9hDydh2PHb,3zPXbMWCbTwAuYxDMKjKNQ,26rvI6Xps9TPk2nBgk5Gn9,0dSRoWYf0GOzX9L44g53sZ,1bDjWyTOXs0sxQMC1mchSM,2x9TboCi9Ssoge8PR9mLmj,6bBwFPgVdWxuc4uWEyALCa,1oM6VZma2gPmhnczmhRKVw,77W4GZJqtHJEJOVGpr1wrb,2BydLQAh7CUIFvSEqAMc4x,1DiP1KYlzeNysRN5JHLbfx,0q8Yje436bw3FkzEDNs7qI,14dXP12TVtt2g8cCTT9z0D,7i4UvxdEQpo6YDBMvcCf1N,4H9gTvO9RJKNMroiqRxmUi,58zQLZ1fU5qWC32tGn1v0G,6zttKhN0rUFfAOzn4HctNU,7Fc4SfRATkyDuJiy0OnUjp,7yLQMOBHYEkFkFQcEoNEpR,1fa5UPTTzONFPYONW7rIwH,7atdCH9HQpUGuGFIKBUtCw,0xt3oHUZchlHPhiWXoADM5,62GYoGszQfROZswLee6W3O,2CeqxyOZEyiL6pTDYZ9gPH,5z4aJcyp0JOtoFquAPfor2,21fwl40hc9je4kf2zEYTrP,2GVEs1sn5Q1jB1976vQoAX,5jy5QmEhOl2pNckwjIVsGi,6G0rZ2W59tmR0Ei1EM31nS,4lnDIEgUMmbhpDk1y5JRe6,703BT1NQsfIwPFv8MXQ47m,6uqTETWok9npbL4c9cuLVh,242GHJMYpPUw3fRhwsbWbD,2vhW1OmaZDYi63Da9d8R5o,1MhqjuxygD7D9q0oHj31aw,3Rzo1yl8uY3iqromycMTED,1FUC4QBNH4ngf20liRLtVP,12PyC1F2p7Rw6yAiboDD0v,35GoAV0Sn8alJGpVGSjz6k,1R6D7X8mDFoFJN7pQYu4Dn,0YLN2oIPG6MPKAy5ysiePj,5jQcJ2st6yHWhUBjoDoZPH,2r6w0eBCBKekxDm6U0hwu1,70AhDADPvD8cRhjfgBUjhZ,3q4XBf0SE8hazRFCxuy6Mm,2VDeB3jshx7g2ZRZlyoQ0A,7av4raprzW2bWdjyAaH3hz,6fJRL6OSqZVIstOfy2898x,66vDBjvjz2YvSF9yJ9JnC5,3eVnNV9TBdUIJOILRZFXzF,53IomGl4OjWDdWo9mfubp5,7dCLMi5pZleCWsRroWaBYH,2FahhbBAqYFJUklR1sOFbf,0lxDL4c5xQQJskltQigwl0,4BrHWj1eORz3alBQbjj290,7FZPr1g7Ss6c2LafIlxBam,3r4JfqQ9mr9MQxxPqOWMx7,7a0chd4RiLpp5FI159ON8T,1Fg71dcYDegFwGLfjy00ks,6ZjVLAUoMQDYgQnlZUqtWM,2TKt71TTe2CZCFsphbIZEs,2Lh7YrkANGELhT8pOUlht1,6PFsub5iIJwrBb8qBRqmiV,4u2KDCwcj8WGcFXDhy1aKL,7a7drPRRR0mY7kOJDvDWjq,6puDH4jNRgeRpMhzgMbO53,5GYcaVfaFBHe2gzA6Oybgj,6aeSAKcpmdXyxUJK4ojyyR,1Q91KIM5aAFMB8t0COjAFE:\n Max Retries, reason: too many 429 error responses",
     "output_type": "error",
     "traceback": [
      "\u001b[1;31m---------------------------------------------------------------------------\u001b[0m",
      "\u001b[1;31mResponseError\u001b[0m                             Traceback (most recent call last)",
      "\u001b[1;31mResponseError\u001b[0m: too many 429 error responses",
      "\nThe above exception was the direct cause of the following exception:\n",
      "\u001b[1;31mMaxRetryError\u001b[0m                             Traceback (most recent call last)",
      "File \u001b[1;32mc:\\Users\\MOALI72\\OneDrive - IKEA\\Projects\\personal-data-science\\Spotify_app\\env\\lib\\site-packages\\requests\\adapters.py:667\u001b[0m, in \u001b[0;36mHTTPAdapter.send\u001b[1;34m(self, request, stream, timeout, verify, cert, proxies)\u001b[0m\n\u001b[0;32m    666\u001b[0m \u001b[38;5;28;01mtry\u001b[39;00m:\n\u001b[1;32m--> 667\u001b[0m     resp \u001b[38;5;241m=\u001b[39m \u001b[43mconn\u001b[49m\u001b[38;5;241;43m.\u001b[39;49m\u001b[43murlopen\u001b[49m\u001b[43m(\u001b[49m\n\u001b[0;32m    668\u001b[0m \u001b[43m        \u001b[49m\u001b[43mmethod\u001b[49m\u001b[38;5;241;43m=\u001b[39;49m\u001b[43mrequest\u001b[49m\u001b[38;5;241;43m.\u001b[39;49m\u001b[43mmethod\u001b[49m\u001b[43m,\u001b[49m\n\u001b[0;32m    669\u001b[0m \u001b[43m        \u001b[49m\u001b[43murl\u001b[49m\u001b[38;5;241;43m=\u001b[39;49m\u001b[43murl\u001b[49m\u001b[43m,\u001b[49m\n\u001b[0;32m    670\u001b[0m \u001b[43m        \u001b[49m\u001b[43mbody\u001b[49m\u001b[38;5;241;43m=\u001b[39;49m\u001b[43mrequest\u001b[49m\u001b[38;5;241;43m.\u001b[39;49m\u001b[43mbody\u001b[49m\u001b[43m,\u001b[49m\n\u001b[0;32m    671\u001b[0m \u001b[43m        \u001b[49m\u001b[43mheaders\u001b[49m\u001b[38;5;241;43m=\u001b[39;49m\u001b[43mrequest\u001b[49m\u001b[38;5;241;43m.\u001b[39;49m\u001b[43mheaders\u001b[49m\u001b[43m,\u001b[49m\n\u001b[0;32m    672\u001b[0m \u001b[43m        \u001b[49m\u001b[43mredirect\u001b[49m\u001b[38;5;241;43m=\u001b[39;49m\u001b[38;5;28;43;01mFalse\u001b[39;49;00m\u001b[43m,\u001b[49m\n\u001b[0;32m    673\u001b[0m \u001b[43m        \u001b[49m\u001b[43massert_same_host\u001b[49m\u001b[38;5;241;43m=\u001b[39;49m\u001b[38;5;28;43;01mFalse\u001b[39;49;00m\u001b[43m,\u001b[49m\n\u001b[0;32m    674\u001b[0m \u001b[43m        \u001b[49m\u001b[43mpreload_content\u001b[49m\u001b[38;5;241;43m=\u001b[39;49m\u001b[38;5;28;43;01mFalse\u001b[39;49;00m\u001b[43m,\u001b[49m\n\u001b[0;32m    675\u001b[0m \u001b[43m        \u001b[49m\u001b[43mdecode_content\u001b[49m\u001b[38;5;241;43m=\u001b[39;49m\u001b[38;5;28;43;01mFalse\u001b[39;49;00m\u001b[43m,\u001b[49m\n\u001b[0;32m    676\u001b[0m \u001b[43m        \u001b[49m\u001b[43mretries\u001b[49m\u001b[38;5;241;43m=\u001b[39;49m\u001b[38;5;28;43mself\u001b[39;49m\u001b[38;5;241;43m.\u001b[39;49m\u001b[43mmax_retries\u001b[49m\u001b[43m,\u001b[49m\n\u001b[0;32m    677\u001b[0m \u001b[43m        \u001b[49m\u001b[43mtimeout\u001b[49m\u001b[38;5;241;43m=\u001b[39;49m\u001b[43mtimeout\u001b[49m\u001b[43m,\u001b[49m\n\u001b[0;32m    678\u001b[0m \u001b[43m        \u001b[49m\u001b[43mchunked\u001b[49m\u001b[38;5;241;43m=\u001b[39;49m\u001b[43mchunked\u001b[49m\u001b[43m,\u001b[49m\n\u001b[0;32m    679\u001b[0m \u001b[43m    \u001b[49m\u001b[43m)\u001b[49m\n\u001b[0;32m    681\u001b[0m \u001b[38;5;28;01mexcept\u001b[39;00m (ProtocolError, \u001b[38;5;167;01mOSError\u001b[39;00m) \u001b[38;5;28;01mas\u001b[39;00m err:\n",
      "File \u001b[1;32mc:\\Users\\MOALI72\\OneDrive - IKEA\\Projects\\personal-data-science\\Spotify_app\\env\\lib\\site-packages\\urllib3\\connectionpool.py:944\u001b[0m, in \u001b[0;36mHTTPConnectionPool.urlopen\u001b[1;34m(self, method, url, body, headers, retries, redirect, assert_same_host, timeout, pool_timeout, release_conn, chunked, body_pos, preload_content, decode_content, **response_kw)\u001b[0m\n\u001b[0;32m    943\u001b[0m     log\u001b[38;5;241m.\u001b[39mdebug(\u001b[38;5;124m\"\u001b[39m\u001b[38;5;124mRetry: \u001b[39m\u001b[38;5;132;01m%s\u001b[39;00m\u001b[38;5;124m\"\u001b[39m, url)\n\u001b[1;32m--> 944\u001b[0m     \u001b[38;5;28;01mreturn\u001b[39;00m \u001b[38;5;28mself\u001b[39m\u001b[38;5;241m.\u001b[39murlopen(\n\u001b[0;32m    945\u001b[0m         method,\n\u001b[0;32m    946\u001b[0m         url,\n\u001b[0;32m    947\u001b[0m         body,\n\u001b[0;32m    948\u001b[0m         headers,\n\u001b[0;32m    949\u001b[0m         retries\u001b[38;5;241m=\u001b[39mretries,\n\u001b[0;32m    950\u001b[0m         redirect\u001b[38;5;241m=\u001b[39mredirect,\n\u001b[0;32m    951\u001b[0m         assert_same_host\u001b[38;5;241m=\u001b[39massert_same_host,\n\u001b[0;32m    952\u001b[0m         timeout\u001b[38;5;241m=\u001b[39mtimeout,\n\u001b[0;32m    953\u001b[0m         pool_timeout\u001b[38;5;241m=\u001b[39mpool_timeout,\n\u001b[0;32m    954\u001b[0m         release_conn\u001b[38;5;241m=\u001b[39mrelease_conn,\n\u001b[0;32m    955\u001b[0m         chunked\u001b[38;5;241m=\u001b[39mchunked,\n\u001b[0;32m    956\u001b[0m         body_pos\u001b[38;5;241m=\u001b[39mbody_pos,\n\u001b[0;32m    957\u001b[0m         preload_content\u001b[38;5;241m=\u001b[39mpreload_content,\n\u001b[0;32m    958\u001b[0m         decode_content\u001b[38;5;241m=\u001b[39mdecode_content,\n\u001b[0;32m    959\u001b[0m         \u001b[38;5;241m*\u001b[39m\u001b[38;5;241m*\u001b[39mresponse_kw,\n\u001b[0;32m    960\u001b[0m     )\n\u001b[0;32m    962\u001b[0m \u001b[38;5;28;01mreturn\u001b[39;00m response\n",
      "File \u001b[1;32mc:\\Users\\MOALI72\\OneDrive - IKEA\\Projects\\personal-data-science\\Spotify_app\\env\\lib\\site-packages\\urllib3\\connectionpool.py:944\u001b[0m, in \u001b[0;36mHTTPConnectionPool.urlopen\u001b[1;34m(self, method, url, body, headers, retries, redirect, assert_same_host, timeout, pool_timeout, release_conn, chunked, body_pos, preload_content, decode_content, **response_kw)\u001b[0m\n\u001b[0;32m    943\u001b[0m     log\u001b[38;5;241m.\u001b[39mdebug(\u001b[38;5;124m\"\u001b[39m\u001b[38;5;124mRetry: \u001b[39m\u001b[38;5;132;01m%s\u001b[39;00m\u001b[38;5;124m\"\u001b[39m, url)\n\u001b[1;32m--> 944\u001b[0m     \u001b[38;5;28;01mreturn\u001b[39;00m \u001b[38;5;28mself\u001b[39m\u001b[38;5;241m.\u001b[39murlopen(\n\u001b[0;32m    945\u001b[0m         method,\n\u001b[0;32m    946\u001b[0m         url,\n\u001b[0;32m    947\u001b[0m         body,\n\u001b[0;32m    948\u001b[0m         headers,\n\u001b[0;32m    949\u001b[0m         retries\u001b[38;5;241m=\u001b[39mretries,\n\u001b[0;32m    950\u001b[0m         redirect\u001b[38;5;241m=\u001b[39mredirect,\n\u001b[0;32m    951\u001b[0m         assert_same_host\u001b[38;5;241m=\u001b[39massert_same_host,\n\u001b[0;32m    952\u001b[0m         timeout\u001b[38;5;241m=\u001b[39mtimeout,\n\u001b[0;32m    953\u001b[0m         pool_timeout\u001b[38;5;241m=\u001b[39mpool_timeout,\n\u001b[0;32m    954\u001b[0m         release_conn\u001b[38;5;241m=\u001b[39mrelease_conn,\n\u001b[0;32m    955\u001b[0m         chunked\u001b[38;5;241m=\u001b[39mchunked,\n\u001b[0;32m    956\u001b[0m         body_pos\u001b[38;5;241m=\u001b[39mbody_pos,\n\u001b[0;32m    957\u001b[0m         preload_content\u001b[38;5;241m=\u001b[39mpreload_content,\n\u001b[0;32m    958\u001b[0m         decode_content\u001b[38;5;241m=\u001b[39mdecode_content,\n\u001b[0;32m    959\u001b[0m         \u001b[38;5;241m*\u001b[39m\u001b[38;5;241m*\u001b[39mresponse_kw,\n\u001b[0;32m    960\u001b[0m     )\n\u001b[0;32m    962\u001b[0m \u001b[38;5;28;01mreturn\u001b[39;00m response\n",
      "File \u001b[1;32mc:\\Users\\MOALI72\\OneDrive - IKEA\\Projects\\personal-data-science\\Spotify_app\\env\\lib\\site-packages\\urllib3\\connectionpool.py:944\u001b[0m, in \u001b[0;36mHTTPConnectionPool.urlopen\u001b[1;34m(self, method, url, body, headers, retries, redirect, assert_same_host, timeout, pool_timeout, release_conn, chunked, body_pos, preload_content, decode_content, **response_kw)\u001b[0m\n\u001b[0;32m    943\u001b[0m     log\u001b[38;5;241m.\u001b[39mdebug(\u001b[38;5;124m\"\u001b[39m\u001b[38;5;124mRetry: \u001b[39m\u001b[38;5;132;01m%s\u001b[39;00m\u001b[38;5;124m\"\u001b[39m, url)\n\u001b[1;32m--> 944\u001b[0m     \u001b[38;5;28;01mreturn\u001b[39;00m \u001b[38;5;28mself\u001b[39m\u001b[38;5;241m.\u001b[39murlopen(\n\u001b[0;32m    945\u001b[0m         method,\n\u001b[0;32m    946\u001b[0m         url,\n\u001b[0;32m    947\u001b[0m         body,\n\u001b[0;32m    948\u001b[0m         headers,\n\u001b[0;32m    949\u001b[0m         retries\u001b[38;5;241m=\u001b[39mretries,\n\u001b[0;32m    950\u001b[0m         redirect\u001b[38;5;241m=\u001b[39mredirect,\n\u001b[0;32m    951\u001b[0m         assert_same_host\u001b[38;5;241m=\u001b[39massert_same_host,\n\u001b[0;32m    952\u001b[0m         timeout\u001b[38;5;241m=\u001b[39mtimeout,\n\u001b[0;32m    953\u001b[0m         pool_timeout\u001b[38;5;241m=\u001b[39mpool_timeout,\n\u001b[0;32m    954\u001b[0m         release_conn\u001b[38;5;241m=\u001b[39mrelease_conn,\n\u001b[0;32m    955\u001b[0m         chunked\u001b[38;5;241m=\u001b[39mchunked,\n\u001b[0;32m    956\u001b[0m         body_pos\u001b[38;5;241m=\u001b[39mbody_pos,\n\u001b[0;32m    957\u001b[0m         preload_content\u001b[38;5;241m=\u001b[39mpreload_content,\n\u001b[0;32m    958\u001b[0m         decode_content\u001b[38;5;241m=\u001b[39mdecode_content,\n\u001b[0;32m    959\u001b[0m         \u001b[38;5;241m*\u001b[39m\u001b[38;5;241m*\u001b[39mresponse_kw,\n\u001b[0;32m    960\u001b[0m     )\n\u001b[0;32m    962\u001b[0m \u001b[38;5;28;01mreturn\u001b[39;00m response\n",
      "File \u001b[1;32mc:\\Users\\MOALI72\\OneDrive - IKEA\\Projects\\personal-data-science\\Spotify_app\\env\\lib\\site-packages\\urllib3\\connectionpool.py:934\u001b[0m, in \u001b[0;36mHTTPConnectionPool.urlopen\u001b[1;34m(self, method, url, body, headers, retries, redirect, assert_same_host, timeout, pool_timeout, release_conn, chunked, body_pos, preload_content, decode_content, **response_kw)\u001b[0m\n\u001b[0;32m    933\u001b[0m \u001b[38;5;28;01mtry\u001b[39;00m:\n\u001b[1;32m--> 934\u001b[0m     retries \u001b[38;5;241m=\u001b[39m \u001b[43mretries\u001b[49m\u001b[38;5;241;43m.\u001b[39;49m\u001b[43mincrement\u001b[49m\u001b[43m(\u001b[49m\u001b[43mmethod\u001b[49m\u001b[43m,\u001b[49m\u001b[43m \u001b[49m\u001b[43murl\u001b[49m\u001b[43m,\u001b[49m\u001b[43m \u001b[49m\u001b[43mresponse\u001b[49m\u001b[38;5;241;43m=\u001b[39;49m\u001b[43mresponse\u001b[49m\u001b[43m,\u001b[49m\u001b[43m \u001b[49m\u001b[43m_pool\u001b[49m\u001b[38;5;241;43m=\u001b[39;49m\u001b[38;5;28;43mself\u001b[39;49m\u001b[43m)\u001b[49m\n\u001b[0;32m    935\u001b[0m \u001b[38;5;28;01mexcept\u001b[39;00m MaxRetryError:\n",
      "File \u001b[1;32mc:\\Users\\MOALI72\\OneDrive - IKEA\\Projects\\personal-data-science\\Spotify_app\\env\\lib\\site-packages\\urllib3\\util\\retry.py:519\u001b[0m, in \u001b[0;36mRetry.increment\u001b[1;34m(self, method, url, response, error, _pool, _stacktrace)\u001b[0m\n\u001b[0;32m    518\u001b[0m     reason \u001b[38;5;241m=\u001b[39m error \u001b[38;5;129;01mor\u001b[39;00m ResponseError(cause)\n\u001b[1;32m--> 519\u001b[0m     \u001b[38;5;28;01mraise\u001b[39;00m MaxRetryError(_pool, url, reason) \u001b[38;5;28;01mfrom\u001b[39;00m \u001b[38;5;21;01mreason\u001b[39;00m  \u001b[38;5;66;03m# type: ignore[arg-type]\u001b[39;00m\n\u001b[0;32m    521\u001b[0m log\u001b[38;5;241m.\u001b[39mdebug(\u001b[38;5;124m\"\u001b[39m\u001b[38;5;124mIncremented Retry for (url=\u001b[39m\u001b[38;5;124m'\u001b[39m\u001b[38;5;132;01m%s\u001b[39;00m\u001b[38;5;124m'\u001b[39m\u001b[38;5;124m): \u001b[39m\u001b[38;5;132;01m%r\u001b[39;00m\u001b[38;5;124m\"\u001b[39m, url, new_retry)\n",
      "\u001b[1;31mMaxRetryError\u001b[0m: HTTPSConnectionPool(host='api.spotify.com', port=443): Max retries exceeded with url: /v1/audio-features/?ids=2JdM4xPoCuHrMzOGQrMUBj,1qfDfZAvrkSAFrAR2FTQDv,0Ykyh9HbouBeaixhJE2eBw,3BKjnFugjFZblx464gIeO5,5pKvHoHL75csBTMxfv4AzK,09zPw0A8r8h4rT3j1N4m3L,0mTLUa8UFx4AwmBnGNUikI,4XfiEW53i7MZLQrVvQryxP,3XWiy9JEQ4iyqCzIqqdQu3,3IXtHVrrlDYjyTUWpKXUdq,0NPsIF7l9v2IEGrm02hpIA,1DmdXg5mmFOvlRvHYPjRU8,4CWUGKyUi4aJOq7tF6HAIF,1e0zbA86VkPt2bIi3YWJxC,4FWBg11d45wVswR21jDz4l,5KkvqWTcNr7vSJ3CFFgm5r,4N8BkYSBFdYRw7IYp6wRAb,0scrtPmtlIVwwk9s4LXJ8n,4Y13tcnF3rc1SHfNyVTjAG,0E4UBpsUOZ6Ic4SCxrXz1L,49JLml1RaJugNsjUX4VaCn,76AqgNyZJ8O7xNTK47v6RI,1BYZkBHCXjE2NwBtekxkrU,7C32Nd3qL1pqeH0nfSt44y,6njEzQA2BQOfTZEVs3LGvU,14rTFBs1cCkOBp5JPUrJhw,3M9GwnAh39jVKrcDx8iGNf,28rEMH4xXl10A2u5zpDxJm,70Q7POsMBrHeMTTWzMt3Rh,0sUn8CmbO5RcfVL83iE2As,4WJqzLYQdk7nU7YlwvSgi4,45YZp4JRXN3A9hDydh2PHb,3zPXbMWCbTwAuYxDMKjKNQ,26rvI6Xps9TPk2nBgk5Gn9,0dSRoWYf0GOzX9L44g53sZ,1bDjWyTOXs0sxQMC1mchSM,2x9TboCi9Ssoge8PR9mLmj,6bBwFPgVdWxuc4uWEyALCa,1oM6VZma2gPmhnczmhRKVw,77W4GZJqtHJEJOVGpr1wrb,2BydLQAh7CUIFvSEqAMc4x,1DiP1KYlzeNysRN5JHLbfx,0q8Yje436bw3FkzEDNs7qI,14dXP12TVtt2g8cCTT9z0D,7i4UvxdEQpo6YDBMvcCf1N,4H9gTvO9RJKNMroiqRxmUi,58zQLZ1fU5qWC32tGn1v0G,6zttKhN0rUFfAOzn4HctNU,7Fc4SfRATkyDuJiy0OnUjp,7yLQMOBHYEkFkFQcEoNEpR,1fa5UPTTzONFPYONW7rIwH,7atdCH9HQpUGuGFIKBUtCw,0xt3oHUZchlHPhiWXoADM5,62GYoGszQfROZswLee6W3O,2CeqxyOZEyiL6pTDYZ9gPH,5z4aJcyp0JOtoFquAPfor2,21fwl40hc9je4kf2zEYTrP,2GVEs1sn5Q1jB1976vQoAX,5jy5QmEhOl2pNckwjIVsGi,6G0rZ2W59tmR0Ei1EM31nS,4lnDIEgUMmbhpDk1y5JRe6,703BT1NQsfIwPFv8MXQ47m,6uqTETWok9npbL4c9cuLVh,242GHJMYpPUw3fRhwsbWbD,2vhW1OmaZDYi63Da9d8R5o,1MhqjuxygD7D9q0oHj31aw,3Rzo1yl8uY3iqromycMTED,1FUC4QBNH4ngf20liRLtVP,12PyC1F2p7Rw6yAiboDD0v,35GoAV0Sn8alJGpVGSjz6k,1R6D7X8mDFoFJN7pQYu4Dn,0YLN2oIPG6MPKAy5ysiePj,5jQcJ2st6yHWhUBjoDoZPH,2r6w0eBCBKekxDm6U0hwu1,70AhDADPvD8cRhjfgBUjhZ,3q4XBf0SE8hazRFCxuy6Mm,2VDeB3jshx7g2ZRZlyoQ0A,7av4raprzW2bWdjyAaH3hz,6fJRL6OSqZVIstOfy2898x,66vDBjvjz2YvSF9yJ9JnC5,3eVnNV9TBdUIJOILRZFXzF,53IomGl4OjWDdWo9mfubp5,7dCLMi5pZleCWsRroWaBYH,2FahhbBAqYFJUklR1sOFbf,0lxDL4c5xQQJskltQigwl0,4BrHWj1eORz3alBQbjj290,7FZPr1g7Ss6c2LafIlxBam,3r4JfqQ9mr9MQxxPqOWMx7,7a0chd4RiLpp5FI159ON8T,1Fg71dcYDegFwGLfjy00ks,6ZjVLAUoMQDYgQnlZUqtWM,2TKt71TTe2CZCFsphbIZEs,2Lh7YrkANGELhT8pOUlht1,6PFsub5iIJwrBb8qBRqmiV,4u2KDCwcj8WGcFXDhy1aKL,7a7drPRRR0mY7kOJDvDWjq,6puDH4jNRgeRpMhzgMbO53,5GYcaVfaFBHe2gzA6Oybgj,6aeSAKcpmdXyxUJK4ojyyR,1Q91KIM5aAFMB8t0COjAFE (Caused by ResponseError('too many 429 error responses'))",
      "\nDuring handling of the above exception, another exception occurred:\n",
      "\u001b[1;31mRetryError\u001b[0m                                Traceback (most recent call last)",
      "File \u001b[1;32mc:\\Users\\MOALI72\\OneDrive - IKEA\\Projects\\personal-data-science\\Spotify_app\\env\\lib\\site-packages\\spotipy\\client.py:270\u001b[0m, in \u001b[0;36mSpotify._internal_call\u001b[1;34m(self, method, url, payload, params)\u001b[0m\n\u001b[0;32m    269\u001b[0m \u001b[38;5;28;01mtry\u001b[39;00m:\n\u001b[1;32m--> 270\u001b[0m     response \u001b[38;5;241m=\u001b[39m \u001b[38;5;28mself\u001b[39m\u001b[38;5;241m.\u001b[39m_session\u001b[38;5;241m.\u001b[39mrequest(\n\u001b[0;32m    271\u001b[0m         method, url, headers\u001b[38;5;241m=\u001b[39mheaders, proxies\u001b[38;5;241m=\u001b[39m\u001b[38;5;28mself\u001b[39m\u001b[38;5;241m.\u001b[39mproxies,\n\u001b[0;32m    272\u001b[0m         timeout\u001b[38;5;241m=\u001b[39m\u001b[38;5;28mself\u001b[39m\u001b[38;5;241m.\u001b[39mrequests_timeout, \u001b[38;5;241m*\u001b[39m\u001b[38;5;241m*\u001b[39margs\n\u001b[0;32m    273\u001b[0m     )\n\u001b[0;32m    275\u001b[0m     response\u001b[38;5;241m.\u001b[39mraise_for_status()\n",
      "File \u001b[1;32mc:\\Users\\MOALI72\\OneDrive - IKEA\\Projects\\personal-data-science\\Spotify_app\\env\\lib\\site-packages\\requests\\sessions.py:589\u001b[0m, in \u001b[0;36mSession.request\u001b[1;34m(self, method, url, params, data, headers, cookies, files, auth, timeout, allow_redirects, proxies, hooks, stream, verify, cert, json)\u001b[0m\n\u001b[0;32m    588\u001b[0m send_kwargs\u001b[38;5;241m.\u001b[39mupdate(settings)\n\u001b[1;32m--> 589\u001b[0m resp \u001b[38;5;241m=\u001b[39m \u001b[38;5;28mself\u001b[39m\u001b[38;5;241m.\u001b[39msend(prep, \u001b[38;5;241m*\u001b[39m\u001b[38;5;241m*\u001b[39msend_kwargs)\n\u001b[0;32m    591\u001b[0m \u001b[38;5;28;01mreturn\u001b[39;00m resp\n",
      "File \u001b[1;32mc:\\Users\\MOALI72\\OneDrive - IKEA\\Projects\\personal-data-science\\Spotify_app\\env\\lib\\site-packages\\requests\\sessions.py:703\u001b[0m, in \u001b[0;36mSession.send\u001b[1;34m(self, request, **kwargs)\u001b[0m\n\u001b[0;32m    702\u001b[0m \u001b[38;5;66;03m# Send the request\u001b[39;00m\n\u001b[1;32m--> 703\u001b[0m r \u001b[38;5;241m=\u001b[39m adapter\u001b[38;5;241m.\u001b[39msend(request, \u001b[38;5;241m*\u001b[39m\u001b[38;5;241m*\u001b[39mkwargs)\n\u001b[0;32m    705\u001b[0m \u001b[38;5;66;03m# Total elapsed time of the request (approximately)\u001b[39;00m\n",
      "File \u001b[1;32mc:\\Users\\MOALI72\\OneDrive - IKEA\\Projects\\personal-data-science\\Spotify_app\\env\\lib\\site-packages\\requests\\adapters.py:691\u001b[0m, in \u001b[0;36mHTTPAdapter.send\u001b[1;34m(self, request, stream, timeout, verify, cert, proxies)\u001b[0m\n\u001b[0;32m    690\u001b[0m \u001b[38;5;28;01mif\u001b[39;00m \u001b[38;5;28misinstance\u001b[39m(e\u001b[38;5;241m.\u001b[39mreason, ResponseError):\n\u001b[1;32m--> 691\u001b[0m     \u001b[38;5;28;01mraise\u001b[39;00m RetryError(e, request\u001b[38;5;241m=\u001b[39mrequest)\n\u001b[0;32m    693\u001b[0m \u001b[38;5;28;01mif\u001b[39;00m \u001b[38;5;28misinstance\u001b[39m(e\u001b[38;5;241m.\u001b[39mreason, _ProxyError):\n",
      "\u001b[1;31mRetryError\u001b[0m: HTTPSConnectionPool(host='api.spotify.com', port=443): Max retries exceeded with url: /v1/audio-features/?ids=2JdM4xPoCuHrMzOGQrMUBj,1qfDfZAvrkSAFrAR2FTQDv,0Ykyh9HbouBeaixhJE2eBw,3BKjnFugjFZblx464gIeO5,5pKvHoHL75csBTMxfv4AzK,09zPw0A8r8h4rT3j1N4m3L,0mTLUa8UFx4AwmBnGNUikI,4XfiEW53i7MZLQrVvQryxP,3XWiy9JEQ4iyqCzIqqdQu3,3IXtHVrrlDYjyTUWpKXUdq,0NPsIF7l9v2IEGrm02hpIA,1DmdXg5mmFOvlRvHYPjRU8,4CWUGKyUi4aJOq7tF6HAIF,1e0zbA86VkPt2bIi3YWJxC,4FWBg11d45wVswR21jDz4l,5KkvqWTcNr7vSJ3CFFgm5r,4N8BkYSBFdYRw7IYp6wRAb,0scrtPmtlIVwwk9s4LXJ8n,4Y13tcnF3rc1SHfNyVTjAG,0E4UBpsUOZ6Ic4SCxrXz1L,49JLml1RaJugNsjUX4VaCn,76AqgNyZJ8O7xNTK47v6RI,1BYZkBHCXjE2NwBtekxkrU,7C32Nd3qL1pqeH0nfSt44y,6njEzQA2BQOfTZEVs3LGvU,14rTFBs1cCkOBp5JPUrJhw,3M9GwnAh39jVKrcDx8iGNf,28rEMH4xXl10A2u5zpDxJm,70Q7POsMBrHeMTTWzMt3Rh,0sUn8CmbO5RcfVL83iE2As,4WJqzLYQdk7nU7YlwvSgi4,45YZp4JRXN3A9hDydh2PHb,3zPXbMWCbTwAuYxDMKjKNQ,26rvI6Xps9TPk2nBgk5Gn9,0dSRoWYf0GOzX9L44g53sZ,1bDjWyTOXs0sxQMC1mchSM,2x9TboCi9Ssoge8PR9mLmj,6bBwFPgVdWxuc4uWEyALCa,1oM6VZma2gPmhnczmhRKVw,77W4GZJqtHJEJOVGpr1wrb,2BydLQAh7CUIFvSEqAMc4x,1DiP1KYlzeNysRN5JHLbfx,0q8Yje436bw3FkzEDNs7qI,14dXP12TVtt2g8cCTT9z0D,7i4UvxdEQpo6YDBMvcCf1N,4H9gTvO9RJKNMroiqRxmUi,58zQLZ1fU5qWC32tGn1v0G,6zttKhN0rUFfAOzn4HctNU,7Fc4SfRATkyDuJiy0OnUjp,7yLQMOBHYEkFkFQcEoNEpR,1fa5UPTTzONFPYONW7rIwH,7atdCH9HQpUGuGFIKBUtCw,0xt3oHUZchlHPhiWXoADM5,62GYoGszQfROZswLee6W3O,2CeqxyOZEyiL6pTDYZ9gPH,5z4aJcyp0JOtoFquAPfor2,21fwl40hc9je4kf2zEYTrP,2GVEs1sn5Q1jB1976vQoAX,5jy5QmEhOl2pNckwjIVsGi,6G0rZ2W59tmR0Ei1EM31nS,4lnDIEgUMmbhpDk1y5JRe6,703BT1NQsfIwPFv8MXQ47m,6uqTETWok9npbL4c9cuLVh,242GHJMYpPUw3fRhwsbWbD,2vhW1OmaZDYi63Da9d8R5o,1MhqjuxygD7D9q0oHj31aw,3Rzo1yl8uY3iqromycMTED,1FUC4QBNH4ngf20liRLtVP,12PyC1F2p7Rw6yAiboDD0v,35GoAV0Sn8alJGpVGSjz6k,1R6D7X8mDFoFJN7pQYu4Dn,0YLN2oIPG6MPKAy5ysiePj,5jQcJ2st6yHWhUBjoDoZPH,2r6w0eBCBKekxDm6U0hwu1,70AhDADPvD8cRhjfgBUjhZ,3q4XBf0SE8hazRFCxuy6Mm,2VDeB3jshx7g2ZRZlyoQ0A,7av4raprzW2bWdjyAaH3hz,6fJRL6OSqZVIstOfy2898x,66vDBjvjz2YvSF9yJ9JnC5,3eVnNV9TBdUIJOILRZFXzF,53IomGl4OjWDdWo9mfubp5,7dCLMi5pZleCWsRroWaBYH,2FahhbBAqYFJUklR1sOFbf,0lxDL4c5xQQJskltQigwl0,4BrHWj1eORz3alBQbjj290,7FZPr1g7Ss6c2LafIlxBam,3r4JfqQ9mr9MQxxPqOWMx7,7a0chd4RiLpp5FI159ON8T,1Fg71dcYDegFwGLfjy00ks,6ZjVLAUoMQDYgQnlZUqtWM,2TKt71TTe2CZCFsphbIZEs,2Lh7YrkANGELhT8pOUlht1,6PFsub5iIJwrBb8qBRqmiV,4u2KDCwcj8WGcFXDhy1aKL,7a7drPRRR0mY7kOJDvDWjq,6puDH4jNRgeRpMhzgMbO53,5GYcaVfaFBHe2gzA6Oybgj,6aeSAKcpmdXyxUJK4ojyyR,1Q91KIM5aAFMB8t0COjAFE (Caused by ResponseError('too many 429 error responses'))",
      "\nDuring handling of the above exception, another exception occurred:\n",
      "\u001b[1;31mSpotifyException\u001b[0m                          Traceback (most recent call last)",
      "Cell \u001b[1;32mIn[13], line 1\u001b[0m\n\u001b[1;32m----> 1\u001b[0m \u001b[43mget_playlist_tracks_more_than_100_songs\u001b[49m\u001b[43m(\u001b[49m\u001b[38;5;124;43m'\u001b[39;49m\u001b[38;5;124;43mc7832f4cfebb4553b27447fe32b29c1d\u001b[39;49m\u001b[38;5;124;43m'\u001b[39;49m\u001b[43m,\u001b[49m\u001b[38;5;124;43m'\u001b[39;49m\u001b[38;5;124;43mhttps://open.spotify.com/playlist/4KL7A1SusUxXFT9W95MIwb\u001b[39;49m\u001b[38;5;124;43m'\u001b[39;49m\u001b[43m)\u001b[49m\n",
      "Cell \u001b[1;32mIn[12], line 28\u001b[0m, in \u001b[0;36mget_playlist_tracks_more_than_100_songs\u001b[1;34m(username, playlist_link)\u001b[0m\n\u001b[0;32m     26\u001b[0m \u001b[38;5;28;01mfor\u001b[39;00m i \u001b[38;5;129;01min\u001b[39;00m \u001b[38;5;28mrange\u001b[39m(\u001b[38;5;241m0\u001b[39m, \u001b[38;5;28mlen\u001b[39m(track_ids), \u001b[38;5;241m100\u001b[39m):\n\u001b[0;32m     27\u001b[0m     batch \u001b[38;5;241m=\u001b[39m track_ids[i:i \u001b[38;5;241m+\u001b[39m \u001b[38;5;241m100\u001b[39m]\n\u001b[1;32m---> 28\u001b[0m     audio_features_results \u001b[38;5;241m=\u001b[39m \u001b[43msp\u001b[49m\u001b[38;5;241;43m.\u001b[39;49m\u001b[43maudio_features\u001b[49m\u001b[43m(\u001b[49m\u001b[43mbatch\u001b[49m\u001b[43m)\u001b[49m\n\u001b[0;32m     29\u001b[0m     audio_features_list\u001b[38;5;241m.\u001b[39mextend(audio_features_results)\n\u001b[0;32m     31\u001b[0m \u001b[38;5;66;03m# Convert the list of audio features to a DataFrame\u001b[39;00m\n",
      "File \u001b[1;32mc:\\Users\\MOALI72\\OneDrive - IKEA\\Projects\\personal-data-science\\Spotify_app\\env\\lib\\site-packages\\spotipy\\client.py:1753\u001b[0m, in \u001b[0;36mSpotify.audio_features\u001b[1;34m(self, tracks)\u001b[0m\n\u001b[0;32m   1751\u001b[0m \u001b[38;5;28;01melse\u001b[39;00m:\n\u001b[0;32m   1752\u001b[0m     tlist \u001b[38;5;241m=\u001b[39m [\u001b[38;5;28mself\u001b[39m\u001b[38;5;241m.\u001b[39m_get_id(\u001b[38;5;124m\"\u001b[39m\u001b[38;5;124mtrack\u001b[39m\u001b[38;5;124m\"\u001b[39m, t) \u001b[38;5;28;01mfor\u001b[39;00m t \u001b[38;5;129;01min\u001b[39;00m tracks]\n\u001b[1;32m-> 1753\u001b[0m     results \u001b[38;5;241m=\u001b[39m \u001b[38;5;28;43mself\u001b[39;49m\u001b[38;5;241;43m.\u001b[39;49m\u001b[43m_get\u001b[49m\u001b[43m(\u001b[49m\u001b[38;5;124;43m\"\u001b[39;49m\u001b[38;5;124;43maudio-features/?ids=\u001b[39;49m\u001b[38;5;124;43m\"\u001b[39;49m\u001b[43m \u001b[49m\u001b[38;5;241;43m+\u001b[39;49m\u001b[43m \u001b[49m\u001b[38;5;124;43m\"\u001b[39;49m\u001b[38;5;124;43m,\u001b[39;49m\u001b[38;5;124;43m\"\u001b[39;49m\u001b[38;5;241;43m.\u001b[39;49m\u001b[43mjoin\u001b[49m\u001b[43m(\u001b[49m\u001b[43mtlist\u001b[49m\u001b[43m)\u001b[49m\u001b[43m)\u001b[49m\n\u001b[0;32m   1754\u001b[0m \u001b[38;5;66;03m# the response has changed, look for the new style first, and if\u001b[39;00m\n\u001b[0;32m   1755\u001b[0m \u001b[38;5;66;03m# it's not there, fallback on the old style\u001b[39;00m\n\u001b[0;32m   1756\u001b[0m \u001b[38;5;28;01mif\u001b[39;00m \u001b[38;5;124m\"\u001b[39m\u001b[38;5;124maudio_features\u001b[39m\u001b[38;5;124m\"\u001b[39m \u001b[38;5;129;01min\u001b[39;00m results:\n",
      "File \u001b[1;32mc:\\Users\\MOALI72\\OneDrive - IKEA\\Projects\\personal-data-science\\Spotify_app\\env\\lib\\site-packages\\spotipy\\client.py:327\u001b[0m, in \u001b[0;36mSpotify._get\u001b[1;34m(self, url, args, payload, **kwargs)\u001b[0m\n\u001b[0;32m    324\u001b[0m \u001b[38;5;28;01mif\u001b[39;00m args:\n\u001b[0;32m    325\u001b[0m     kwargs\u001b[38;5;241m.\u001b[39mupdate(args)\n\u001b[1;32m--> 327\u001b[0m \u001b[38;5;28;01mreturn\u001b[39;00m \u001b[38;5;28;43mself\u001b[39;49m\u001b[38;5;241;43m.\u001b[39;49m\u001b[43m_internal_call\u001b[49m\u001b[43m(\u001b[49m\u001b[38;5;124;43m\"\u001b[39;49m\u001b[38;5;124;43mGET\u001b[39;49m\u001b[38;5;124;43m\"\u001b[39;49m\u001b[43m,\u001b[49m\u001b[43m \u001b[49m\u001b[43murl\u001b[49m\u001b[43m,\u001b[49m\u001b[43m \u001b[49m\u001b[43mpayload\u001b[49m\u001b[43m,\u001b[49m\u001b[43m \u001b[49m\u001b[43mkwargs\u001b[49m\u001b[43m)\u001b[49m\n",
      "File \u001b[1;32mc:\\Users\\MOALI72\\OneDrive - IKEA\\Projects\\personal-data-science\\Spotify_app\\env\\lib\\site-packages\\spotipy\\client.py:311\u001b[0m, in \u001b[0;36mSpotify._internal_call\u001b[1;34m(self, method, url, payload, params)\u001b[0m\n\u001b[0;32m    309\u001b[0m     \u001b[38;5;28;01mexcept\u001b[39;00m (\u001b[38;5;167;01mIndexError\u001b[39;00m, \u001b[38;5;167;01mAttributeError\u001b[39;00m):\n\u001b[0;32m    310\u001b[0m         reason \u001b[38;5;241m=\u001b[39m \u001b[38;5;28;01mNone\u001b[39;00m\n\u001b[1;32m--> 311\u001b[0m     \u001b[38;5;28;01mraise\u001b[39;00m SpotifyException(\n\u001b[0;32m    312\u001b[0m         \u001b[38;5;241m429\u001b[39m,\n\u001b[0;32m    313\u001b[0m         \u001b[38;5;241m-\u001b[39m\u001b[38;5;241m1\u001b[39m,\n\u001b[0;32m    314\u001b[0m         \u001b[38;5;124mf\u001b[39m\u001b[38;5;124m\"\u001b[39m\u001b[38;5;132;01m{\u001b[39;00mrequest\u001b[38;5;241m.\u001b[39mpath_url\u001b[38;5;132;01m}\u001b[39;00m\u001b[38;5;124m:\u001b[39m\u001b[38;5;130;01m\\n\u001b[39;00m\u001b[38;5;124m Max Retries\u001b[39m\u001b[38;5;124m\"\u001b[39m,\n\u001b[0;32m    315\u001b[0m         reason\u001b[38;5;241m=\u001b[39mreason\n\u001b[0;32m    316\u001b[0m     )\n\u001b[0;32m    317\u001b[0m \u001b[38;5;28;01mexcept\u001b[39;00m \u001b[38;5;167;01mValueError\u001b[39;00m:\n\u001b[0;32m    318\u001b[0m     results \u001b[38;5;241m=\u001b[39m \u001b[38;5;28;01mNone\u001b[39;00m\n",
      "\u001b[1;31mSpotifyException\u001b[0m: http status: 429, code:-1 - /v1/audio-features/?ids=2JdM4xPoCuHrMzOGQrMUBj,1qfDfZAvrkSAFrAR2FTQDv,0Ykyh9HbouBeaixhJE2eBw,3BKjnFugjFZblx464gIeO5,5pKvHoHL75csBTMxfv4AzK,09zPw0A8r8h4rT3j1N4m3L,0mTLUa8UFx4AwmBnGNUikI,4XfiEW53i7MZLQrVvQryxP,3XWiy9JEQ4iyqCzIqqdQu3,3IXtHVrrlDYjyTUWpKXUdq,0NPsIF7l9v2IEGrm02hpIA,1DmdXg5mmFOvlRvHYPjRU8,4CWUGKyUi4aJOq7tF6HAIF,1e0zbA86VkPt2bIi3YWJxC,4FWBg11d45wVswR21jDz4l,5KkvqWTcNr7vSJ3CFFgm5r,4N8BkYSBFdYRw7IYp6wRAb,0scrtPmtlIVwwk9s4LXJ8n,4Y13tcnF3rc1SHfNyVTjAG,0E4UBpsUOZ6Ic4SCxrXz1L,49JLml1RaJugNsjUX4VaCn,76AqgNyZJ8O7xNTK47v6RI,1BYZkBHCXjE2NwBtekxkrU,7C32Nd3qL1pqeH0nfSt44y,6njEzQA2BQOfTZEVs3LGvU,14rTFBs1cCkOBp5JPUrJhw,3M9GwnAh39jVKrcDx8iGNf,28rEMH4xXl10A2u5zpDxJm,70Q7POsMBrHeMTTWzMt3Rh,0sUn8CmbO5RcfVL83iE2As,4WJqzLYQdk7nU7YlwvSgi4,45YZp4JRXN3A9hDydh2PHb,3zPXbMWCbTwAuYxDMKjKNQ,26rvI6Xps9TPk2nBgk5Gn9,0dSRoWYf0GOzX9L44g53sZ,1bDjWyTOXs0sxQMC1mchSM,2x9TboCi9Ssoge8PR9mLmj,6bBwFPgVdWxuc4uWEyALCa,1oM6VZma2gPmhnczmhRKVw,77W4GZJqtHJEJOVGpr1wrb,2BydLQAh7CUIFvSEqAMc4x,1DiP1KYlzeNysRN5JHLbfx,0q8Yje436bw3FkzEDNs7qI,14dXP12TVtt2g8cCTT9z0D,7i4UvxdEQpo6YDBMvcCf1N,4H9gTvO9RJKNMroiqRxmUi,58zQLZ1fU5qWC32tGn1v0G,6zttKhN0rUFfAOzn4HctNU,7Fc4SfRATkyDuJiy0OnUjp,7yLQMOBHYEkFkFQcEoNEpR,1fa5UPTTzONFPYONW7rIwH,7atdCH9HQpUGuGFIKBUtCw,0xt3oHUZchlHPhiWXoADM5,62GYoGszQfROZswLee6W3O,2CeqxyOZEyiL6pTDYZ9gPH,5z4aJcyp0JOtoFquAPfor2,21fwl40hc9je4kf2zEYTrP,2GVEs1sn5Q1jB1976vQoAX,5jy5QmEhOl2pNckwjIVsGi,6G0rZ2W59tmR0Ei1EM31nS,4lnDIEgUMmbhpDk1y5JRe6,703BT1NQsfIwPFv8MXQ47m,6uqTETWok9npbL4c9cuLVh,242GHJMYpPUw3fRhwsbWbD,2vhW1OmaZDYi63Da9d8R5o,1MhqjuxygD7D9q0oHj31aw,3Rzo1yl8uY3iqromycMTED,1FUC4QBNH4ngf20liRLtVP,12PyC1F2p7Rw6yAiboDD0v,35GoAV0Sn8alJGpVGSjz6k,1R6D7X8mDFoFJN7pQYu4Dn,0YLN2oIPG6MPKAy5ysiePj,5jQcJ2st6yHWhUBjoDoZPH,2r6w0eBCBKekxDm6U0hwu1,70AhDADPvD8cRhjfgBUjhZ,3q4XBf0SE8hazRFCxuy6Mm,2VDeB3jshx7g2ZRZlyoQ0A,7av4raprzW2bWdjyAaH3hz,6fJRL6OSqZVIstOfy2898x,66vDBjvjz2YvSF9yJ9JnC5,3eVnNV9TBdUIJOILRZFXzF,53IomGl4OjWDdWo9mfubp5,7dCLMi5pZleCWsRroWaBYH,2FahhbBAqYFJUklR1sOFbf,0lxDL4c5xQQJskltQigwl0,4BrHWj1eORz3alBQbjj290,7FZPr1g7Ss6c2LafIlxBam,3r4JfqQ9mr9MQxxPqOWMx7,7a0chd4RiLpp5FI159ON8T,1Fg71dcYDegFwGLfjy00ks,6ZjVLAUoMQDYgQnlZUqtWM,2TKt71TTe2CZCFsphbIZEs,2Lh7YrkANGELhT8pOUlht1,6PFsub5iIJwrBb8qBRqmiV,4u2KDCwcj8WGcFXDhy1aKL,7a7drPRRR0mY7kOJDvDWjq,6puDH4jNRgeRpMhzgMbO53,5GYcaVfaFBHe2gzA6Oybgj,6aeSAKcpmdXyxUJK4ojyyR,1Q91KIM5aAFMB8t0COjAFE:\n Max Retries, reason: too many 429 error responses"
     ]
    }
   ],
   "source": [
    "get_playlist_tracks_more_than_100_songs('c7832f4cfebb4553b27447fe32b29c1d','https://open.spotify.com/playlist/4KL7A1SusUxXFT9W95MIwb')"
   ]
  },
  {
   "cell_type": "code",
   "execution_count": null,
   "metadata": {},
   "outputs": [],
   "source": []
  }
 ],
 "metadata": {
  "kernelspec": {
   "display_name": "env",
   "language": "python",
   "name": "python3"
  },
  "language_info": {
   "codemirror_mode": {
    "name": "ipython",
    "version": 3
   },
   "file_extension": ".py",
   "mimetype": "text/x-python",
   "name": "python",
   "nbconvert_exporter": "python",
   "pygments_lexer": "ipython3",
   "version": "3.12.5"
  }
 },
 "nbformat": 4,
 "nbformat_minor": 2
}
